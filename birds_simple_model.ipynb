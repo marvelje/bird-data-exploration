{
 "cells": [
  {
   "cell_type": "code",
   "execution_count": 50,
   "metadata": {},
   "outputs": [],
   "source": [
    "# Import standard libraries\n",
    "\n",
    "import pandas as pd\n",
    "import numpy as np\n",
    "from sklearn.linear_model import LogisticRegression\n",
    "from sklearn.metrics import accuracy_score, precision_score, recall_score, log_loss, confusion_matrix, plot_confusion_matrix\n",
    "from sklearn.model_selection import train_test_split"
   ]
  },
  {
   "cell_type": "code",
   "execution_count": 5,
   "metadata": {},
   "outputs": [],
   "source": [
    "df_birds = pd.read_csv('bird_dataset.csv', index_col=0)"
   ]
  },
  {
   "cell_type": "code",
   "execution_count": 8,
   "metadata": {
    "scrolled": true
   },
   "outputs": [
    {
     "name": "stdout",
     "output_type": "stream",
     "text": [
      "<class 'pandas.core.frame.DataFrame'>\n",
      "Int64Index: 9597 entries, 1 to 9985\n",
      "Data columns (total 85 columns):\n",
      " #   Column                         Non-Null Count  Dtype  \n",
      "---  ------                         --------------  -----  \n",
      " 0   SpecID                         9597 non-null   float64\n",
      " 1   PassNonPass                    9597 non-null   object \n",
      " 2   IOCOrder                       9597 non-null   object \n",
      " 3   BLFamilyLatin                  9597 non-null   object \n",
      " 4   BLFamilyEnglish                9597 non-null   object \n",
      " 5   BLFamSequID                    9597 non-null   float64\n",
      " 6   Taxo                           9597 non-null   object \n",
      " 7   Scientific                     9597 non-null   object \n",
      " 8   English                        9597 non-null   object \n",
      " 9   Diet-Inv                       9597 non-null   float64\n",
      " 10  Diet-Vend                      9597 non-null   float64\n",
      " 11  Diet-Vect                      9597 non-null   float64\n",
      " 12  Diet-Vfish                     9597 non-null   float64\n",
      " 13  Diet-Vunk                      9597 non-null   float64\n",
      " 14  Diet-Scav                      9597 non-null   float64\n",
      " 15  Diet-Fruit                     9597 non-null   float64\n",
      " 16  Diet-Nect                      9597 non-null   float64\n",
      " 17  Diet-Seed                      9597 non-null   float64\n",
      " 18  Diet-PlantO                    9597 non-null   float64\n",
      " 19  Diet-5Cat                      9597 non-null   object \n",
      " 20  Diet-Source                    9597 non-null   object \n",
      " 21  Diet-Certainty                 9597 non-null   object \n",
      " 22  Diet-EnteredBy                 9325 non-null   object \n",
      " 23  ForStrat-watbelowsurf          9597 non-null   float64\n",
      " 24  ForStrat-wataroundsurf         9597 non-null   float64\n",
      " 25  ForStrat-ground                9597 non-null   float64\n",
      " 26  ForStrat-understory            9597 non-null   float64\n",
      " 27  ForStrat-midhigh               9597 non-null   float64\n",
      " 28  ForStrat-canopy                9597 non-null   float64\n",
      " 29  ForStrat-aerial                9597 non-null   float64\n",
      " 30  PelagicSpecialist              9597 non-null   float64\n",
      " 31  ForStrat-Source                9597 non-null   object \n",
      " 32  ForStrat-SpecLevel             9597 non-null   float64\n",
      " 33  ForStrat-EnteredBy             9597 non-null   object \n",
      " 34  Nocturnal                      9597 non-null   float64\n",
      " 35  BodyMass-Value                 9597 non-null   float64\n",
      " 36  BodyMass-Source                9597 non-null   object \n",
      " 37  BodyMass-SpecLevel             9597 non-null   float64\n",
      " 38  BodyMass-Comment               330 non-null    object \n",
      " 39  Record-Comment                 225 non-null    object \n",
      " 40  SpcRecID                       9597 non-null   float64\n",
      " 41  English name                   9597 non-null   object \n",
      " 42  Family                         9597 non-null   object \n",
      " 43  Global IUCN Red List Category  9597 non-null   object \n",
      " 44  endemic_breeding               9597 non-null   float64\n",
      " 45  migratory                      9597 non-null   float64\n",
      " 46  africa                         9597 non-null   float64\n",
      " 47  antarctica                     9597 non-null   float64\n",
      " 48  asia                           9597 non-null   float64\n",
      " 49  australasia                    9597 non-null   float64\n",
      " 50  caribbean                      9597 non-null   float64\n",
      " 51  central_amer                   9597 non-null   float64\n",
      " 52  central_asia                   9597 non-null   float64\n",
      " 53  europe                         9597 non-null   float64\n",
      " 54  high_seas                      9597 non-null   float64\n",
      " 55  mid_east                       9597 non-null   float64\n",
      " 56  north_amer                     9597 non-null   float64\n",
      " 57  oceania                        9597 non-null   float64\n",
      " 58  south_amer                     9597 non-null   float64\n",
      " 59  agriculture_threat             9597 non-null   float64\n",
      " 60  biological_threat              9597 non-null   float64\n",
      " 61  climate_change_threat          9597 non-null   float64\n",
      " 62  energy_mining_threat           9597 non-null   float64\n",
      " 63  geological_threat              9597 non-null   float64\n",
      " 64  human_intrusions_threat        9597 non-null   float64\n",
      " 65  invasive_threat                9597 non-null   float64\n",
      " 66  natural_systems_threat         9597 non-null   float64\n",
      " 67  pollution_threat               9597 non-null   float64\n",
      " 68  res_comm_dev_threat            9597 non-null   float64\n",
      " 69  transportation_threat          9597 non-null   float64\n",
      " 70  artificial_aquatic             9597 non-null   float64\n",
      " 71  artificial_terrestrial         9597 non-null   float64\n",
      " 72  caves_subterranean             9597 non-null   float64\n",
      " 73  desert                         9597 non-null   float64\n",
      " 74  forest                         9597 non-null   float64\n",
      " 75  grassland                      9597 non-null   float64\n",
      " 76  introduced_vegetation          9597 non-null   float64\n",
      " 77  marine_coastal_supratidal      9597 non-null   float64\n",
      " 78  marine_intertidal              9597 non-null   float64\n",
      " 79  marine_neritic                 9597 non-null   float64\n",
      " 80  marine_oceanic                 9597 non-null   float64\n",
      " 81  rocky_areas                    9597 non-null   float64\n",
      " 82  savanna                        9597 non-null   float64\n",
      " 83  shrubland                      9597 non-null   float64\n",
      " 84  wetlands_inland                9597 non-null   float64\n",
      "dtypes: float64(66), object(19)\n",
      "memory usage: 6.3+ MB\n"
     ]
    }
   ],
   "source": [
    "df_birds.info()"
   ]
  },
  {
   "cell_type": "code",
   "execution_count": 20,
   "metadata": {},
   "outputs": [],
   "source": [
    "num_cols = [c for c in df_birds.columns if df_birds[c].dtype in ['float64', 'int64']]"
   ]
  },
  {
   "cell_type": "code",
   "execution_count": 26,
   "metadata": {},
   "outputs": [],
   "source": [
    "X = df_birds[num_cols].copy()\n",
    "X.drop(columns=['SpecID', 'BLFamSequID', 'SpcRecID'], axis=1, inplace=True)"
   ]
  },
  {
   "cell_type": "code",
   "execution_count": 33,
   "metadata": {},
   "outputs": [],
   "source": [
    "y = pd.DataFrame(df_birds['Global IUCN Red List Category'])\n",
    "y['threatened'] = 0"
   ]
  },
  {
   "cell_type": "code",
   "execution_count": 37,
   "metadata": {},
   "outputs": [],
   "source": [
    "y.loc[(y['Global IUCN Red List Category'] == 'VU') |\n",
    "      (y['Global IUCN Red List Category'] == 'EN') |\n",
    "      (y['Global IUCN Red List Category'] == 'CR') |\n",
    "      (y['Global IUCN Red List Category'] == 'CR(PE)'), 'threatened'] = 1\n",
    "\n",
    "y.drop('Global IUCN Red List Category', axis=1, inplace=True)"
   ]
  },
  {
   "cell_type": "code",
   "execution_count": 44,
   "metadata": {},
   "outputs": [],
   "source": [
    "X_train, X_test, y_train, y_test = train_test_split(X, y, random_state=42)"
   ]
  },
  {
   "cell_type": "code",
   "execution_count": 45,
   "metadata": {},
   "outputs": [
    {
     "name": "stderr",
     "output_type": "stream",
     "text": [
      "/Users/jeffreymarvel/opt/anaconda3/envs/learn-env/lib/python3.8/site-packages/sklearn/utils/validation.py:72: DataConversionWarning: A column-vector y was passed when a 1d array was expected. Please change the shape of y to (n_samples, ), for example using ravel().\n",
      "  return f(**kwargs)\n",
      "/Users/jeffreymarvel/opt/anaconda3/envs/learn-env/lib/python3.8/site-packages/sklearn/linear_model/_logistic.py:762: ConvergenceWarning: lbfgs failed to converge (status=1):\n",
      "STOP: TOTAL NO. of ITERATIONS REACHED LIMIT.\n",
      "\n",
      "Increase the number of iterations (max_iter) or scale the data as shown in:\n",
      "    https://scikit-learn.org/stable/modules/preprocessing.html\n",
      "Please also refer to the documentation for alternative solver options:\n",
      "    https://scikit-learn.org/stable/modules/linear_model.html#logistic-regression\n",
      "  n_iter_i = _check_optimize_result(\n"
     ]
    },
    {
     "data": {
      "text/plain": [
       "LogisticRegression(random_state=42)"
      ]
     },
     "execution_count": 45,
     "metadata": {},
     "output_type": "execute_result"
    }
   ],
   "source": [
    "# Create logistic regression\n",
    "\n",
    "simple_model = LogisticRegression(random_state=42)\n",
    "\n",
    "simple_model.fit(X_train, y_train)"
   ]
  },
  {
   "cell_type": "code",
   "execution_count": 46,
   "metadata": {},
   "outputs": [],
   "source": [
    "y_test_preds = simple_model.predict(X_test)"
   ]
  },
  {
   "cell_type": "code",
   "execution_count": 47,
   "metadata": {},
   "outputs": [
    {
     "name": "stdout",
     "output_type": "stream",
     "text": [
      "Accuracy: 0.8554166666666667\n",
      "Precision: 0.0\n",
      "Recall: 0.0\n"
     ]
    },
    {
     "name": "stderr",
     "output_type": "stream",
     "text": [
      "/Users/jeffreymarvel/opt/anaconda3/envs/learn-env/lib/python3.8/site-packages/sklearn/metrics/_classification.py:1221: UndefinedMetricWarning: Precision is ill-defined and being set to 0.0 due to no predicted samples. Use `zero_division` parameter to control this behavior.\n",
      "  _warn_prf(average, modifier, msg_start, len(result))\n"
     ]
    }
   ],
   "source": [
    "print(f\"Accuracy: {accuracy_score(y_test, y_test_preds)}\")\n",
    "print(f\"Precision: {precision_score(y_test, y_test_preds)}\")\n",
    "print(f\"Recall: {recall_score(y_test, y_test_preds)}\")"
   ]
  },
  {
   "cell_type": "code",
   "execution_count": 52,
   "metadata": {},
   "outputs": [
    {
     "data": {
      "image/png": "[encoded data removed]",
      "text/plain": [
       "<Figure size 432x288 with 2 Axes>"
      ]
     },
     "metadata": {
      "needs_background": "light"
     },
     "output_type": "display_data"
    }
   ],
   "source": [
    "plot_confusion_matrix(simple_model, X_train, y_train);"
   ]
  },
  {
   "cell_type": "markdown",
   "metadata": {},
   "source": [
    "## Summary\n",
    "\n",
    "- First, dumb model failed to converge by using most variables available\n",
    "- The result had a significant number of false negatives, and only correctly predicted 3 birds that were actually threatened"
   ]
  }
 ],
 "metadata": {
  "kernelspec": {
   "display_name": "Python (learn-env)",
   "language": "python",
   "name": "learn-env"
  },
  "language_info": {
   "codemirror_mode": {
    "name": "ipython",
    "version": 3
   },
   "file_extension": ".py",
   "mimetype": "text/x-python",
   "name": "python",
   "nbconvert_exporter": "python",
   "pygments_lexer": "ipython3",
   "version": "3.8.5"
  }
 },
 "nbformat": 4,
 "nbformat_minor": 4
}
