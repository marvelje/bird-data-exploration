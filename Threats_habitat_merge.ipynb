{
 "cells": [
  {
   "cell_type": "code",
   "execution_count": 1,
   "metadata": {},
   "outputs": [],
   "source": [
    "import pandas as pd"
   ]
  },
  {
   "cell_type": "code",
   "execution_count": 2,
   "metadata": {},
   "outputs": [],
   "source": [
    "full_data = pd.read_csv('./Threats/full_dataset.csv', index_col=0)"
   ]
  },
  {
   "cell_type": "markdown",
   "metadata": {},
   "source": [
    "# Threats"
   ]
  },
  {
   "cell_type": "code",
   "execution_count": 15,
   "metadata": {},
   "outputs": [
    {
     "data": {
      "text/plain": [
       "(2212, 1)"
      ]
     },
     "execution_count": 15,
     "metadata": {},
     "output_type": "execute_result"
    }
   ],
   "source": [
    "agriculture.shape"
   ]
  },
  {
   "cell_type": "code",
   "execution_count": 16,
   "metadata": {},
   "outputs": [
    {
     "data": {
      "text/plain": [
       "(169, 1)"
      ]
     },
     "execution_count": 16,
     "metadata": {},
     "output_type": "execute_result"
    }
   ],
   "source": [
    "invasive_species.shape"
   ]
  },
  {
   "cell_type": "code",
   "execution_count": 3,
   "metadata": {},
   "outputs": [],
   "source": [
    "# Import the various threat dbs\n",
    "\n",
    "agriculture = pd.read_csv('./Threats/agriculture_threat.csv', index_col=0)\n",
    "biological = pd.read_csv('./Threats/biological_threat.csv', index_col=0)\n",
    "climate_change = pd.read_csv('./Threats/climate_change_threat.csv', index_col=0)\n",
    "energy_mining = pd.read_csv('./Threats/energy_mining.csv', index_col=0)\n",
    "geological_events = pd.read_csv('./Threats/geological_events.csv', index_col=0)\n",
    "human_intrusions = pd.read_csv('./Threats/human_intrusions.csv', index_col=0)\n",
    "invasive_species = pd.read_csv('./Threats/invasive_species_threat.csv', index_col=0)\n",
    "natural_systems = pd.read_csv('./Threats/natural_systems_threats.csv', index_col=0)\n",
    "pollution = pd.read_csv('./Threats/pollution.csv', index_col=0)\n",
    "res_comm_dev = pd.read_csv('./Threats/res_comm_developent.csv', index_col=0)\n",
    "transportation = pd.read_csv('./Threats/transportation_threats.csv', index_col=0)"
   ]
  },
  {
   "cell_type": "code",
   "execution_count": 4,
   "metadata": {},
   "outputs": [],
   "source": [
    "# Add column of ones to each threat dataframe\n",
    "\n",
    "agriculture['agriculture_threat'] = 1\n",
    "biological['biological_threat'] = 1\n",
    "climate_change['climate_change_threat'] = 1\n",
    "energy_mining['energy_mining_threat'] = 1\n",
    "geological_events['geological_threat'] = 1\n",
    "human_intrusions['human_intrusions_threat'] = 1\n",
    "invasive_species['invasive_threat'] = 1\n",
    "natural_systems['natural_systems_threat'] = 1\n",
    "pollution['pollution_threat'] = 1\n",
    "res_comm_dev['res_comm_dev_threat'] = 1\n",
    "transportation['transportation_threat'] = 1"
   ]
  },
  {
   "cell_type": "code",
   "execution_count": 5,
   "metadata": {},
   "outputs": [],
   "source": [
    "# Filter threats only for relevant flag\n",
    "\n",
    "agriculture = agriculture[['agriculture_threat']]\n",
    "biological = biological[['biological_threat']]\n",
    "climate_change = climate_change[['climate_change_threat']]\n",
    "energy_mining = energy_mining[['energy_mining_threat']]\n",
    "geological_events = geological_events[['geological_threat']]\n",
    "human_intrusions = human_intrusions[['human_intrusions_threat']]\n",
    "invasive_species = invasive_species[['invasive_threat']]\n",
    "natural_systems = natural_systems[['natural_systems_threat']]\n",
    "pollution = pollution[['pollution_threat']]\n",
    "res_comm_dev = res_comm_dev[['res_comm_dev_threat']]\n",
    "transportation = transportation[['transportation_threat']]"
   ]
  },
  {
   "cell_type": "markdown",
   "metadata": {},
   "source": [
    "# Habitats"
   ]
  },
  {
   "cell_type": "code",
   "execution_count": 6,
   "metadata": {},
   "outputs": [],
   "source": [
    "# Import habitat files\n",
    "\n",
    "artificial_aquatic = pd.read_csv('./Habitats/aquatic_marine.csv', index_col=0)\n",
    "artificial_terrestrial = pd.read_csv('./Habitats/artificial_terrestrial.csv', index_col=0)\n",
    "caves_subterranean = pd.read_csv('./Habitats/caves_subterranean.csv', index_col=0)\n",
    "desert = pd.read_csv('./Habitats/desert.csv', index_col=0)\n",
    "forest = pd.read_csv('./Habitats/forest.csv', index_col=0)\n",
    "grassland = pd.read_csv('./Habitats/grassland.csv', index_col=0)\n",
    "introduced_vegetation = pd.read_csv('./Habitats/introduced_vegetation.csv', index_col=0)\n",
    "marine_coastal_supratidal = pd.read_csv('./Habitats/marine_coastal_supratidal.csv', index_col=0)\n",
    "marine_intertidal = pd.read_csv('./Habitats/marine_intertidal.csv', index_col=0)\n",
    "marine_neritic = pd.read_csv('./Habitats/marine_neritic.csv', index_col=0)\n",
    "marine_oceanic = pd.read_csv('./Habitats/marine_oceanic.csv', index_col=0)\n",
    "rocky_areas = pd.read_csv('./Habitats/rocky_areas.csv', index_col=0)\n",
    "savanna = pd.read_csv('./Habitats/savanna.csv', index_col=0)\n",
    "shrubland = pd.read_csv('./Habitats/shrubland.csv', index_col=0)\n",
    "wetlands_inland = pd.read_csv('./Habitats/wetlands_inland.csv', index_col=0)"
   ]
  },
  {
   "cell_type": "code",
   "execution_count": 7,
   "metadata": {},
   "outputs": [],
   "source": [
    "# Add column of ones\n",
    "\n",
    "artificial_aquatic['artificial_aquatic'] = 1\n",
    "artificial_terrestrial['artificial_terrestrial'] = 1\n",
    "caves_subterranean['caves_subterranean'] = 1\n",
    "desert['desert'] = 1\n",
    "forest['forest'] = 1\n",
    "grassland['grassland'] = 1\n",
    "introduced_vegetation['introduced_vegetation'] = 1\n",
    "marine_coastal_supratidal['marine_coastal_supratidal'] = 1\n",
    "marine_intertidal['marine_intertidal'] = 1\n",
    "marine_neritic['marine_neritic'] = 1\n",
    "marine_oceanic['marine_oceanic'] = 1\n",
    "rocky_areas['rocky_areas'] = 1\n",
    "savanna['savanna'] = 1\n",
    "shrubland['shrubland'] = 1\n",
    "wetlands_inland['wetlands_inland'] = 1"
   ]
  },
  {
   "cell_type": "code",
   "execution_count": 8,
   "metadata": {},
   "outputs": [],
   "source": [
    "# Filter habitat only for relevant column\n",
    "\n",
    "\n",
    "artificial_aquatic = artificial_aquatic[['artificial_aquatic']]\n",
    "artificial_terrestrial = artificial_terrestrial[['artificial_terrestrial']]\n",
    "caves_subterranean = caves_subterranean[['caves_subterranean']]\n",
    "desert = desert[['desert']]\n",
    "forest = forest[['forest']]\n",
    "grassland = grassland[['grassland']]\n",
    "introduced_vegetation = introduced_vegetation[['introduced_vegetation']]\n",
    "marine_coastal_supratidal = marine_coastal_supratidal[['marine_coastal_supratidal']]\n",
    "marine_intertidal = marine_intertidal[['marine_intertidal']]\n",
    "marine_neritic = marine_neritic[['marine_neritic']]\n",
    "marine_oceanic = marine_oceanic[['marine_oceanic']]\n",
    "rocky_areas = rocky_areas[['rocky_areas']]\n",
    "savanna = savanna[['savanna']]\n",
    "shrubland = shrubland[['shrubland']]\n",
    "wetlands_inland = wetlands_inland[['wetlands_inland']]"
   ]
  },
  {
   "cell_type": "markdown",
   "metadata": {},
   "source": [
    "# 'Other' data"
   ]
  },
  {
   "cell_type": "code",
   "execution_count": 9,
   "metadata": {},
   "outputs": [],
   "source": [
    "# Import migratory and endemic breeding flags\n",
    "endemic_breeding = pd.read_csv('./Other_data/endemic_when_breeding.csv', index_col=0)\n",
    "migratory = pd.read_csv('./Other_data/migratory.csv', index_col=0)"
   ]
  },
  {
   "cell_type": "code",
   "execution_count": 10,
   "metadata": {},
   "outputs": [],
   "source": [
    "# Add column of ones\n",
    "\n",
    "endemic_breeding['endemic_breeding'] = 1\n",
    "migratory['migratory'] = 1"
   ]
  },
  {
   "cell_type": "code",
   "execution_count": 11,
   "metadata": {},
   "outputs": [],
   "source": [
    "# Filter other for only for relevant column\n",
    "\n",
    "endemic_breeding = endemic_breeding[['endemic_breeding']]\n",
    "migratory = migratory[['migratory']]"
   ]
  },
  {
   "cell_type": "markdown",
   "metadata": {},
   "source": [
    "# Region"
   ]
  },
  {
   "cell_type": "code",
   "execution_count": null,
   "metadata": {},
   "outputs": [],
   "source": []
  },
  {
   "cell_type": "code",
   "execution_count": 12,
   "metadata": {},
   "outputs": [],
   "source": [
    "# Import region flags\n",
    "africa = pd.read_csv('./Region/africa.csv', index_col=0)\n",
    "antarctica = pd.read_csv('./Region/antarctica.csv', index_col=0)\n",
    "asia = pd.read_csv('./Region/asia.csv', index_col=0)\n",
    "australasia = pd.read_csv('./Region/australasia.csv', index_col=0)\n",
    "caribbean = pd.read_csv('./Region/caribbean.csv', index_col=0)\n",
    "central_amer = pd.read_csv('./Region/central_america.csv', index_col=0)\n",
    "central_asia = pd.read_csv('./Region/central_asia.csv', index_col=0)\n",
    "europe = pd.read_csv('./Region/europe.csv', index_col=0)\n",
    "high_seas = pd.read_csv('./Region/high_seas.csv', index_col=0)\n",
    "mid_east = pd.read_csv('./Region/middle_east.csv', index_col=0)\n",
    "north_amer = pd.read_csv('./Region/north_america.csv', index_col=0)\n",
    "oceania = pd.read_csv('./Region/oceania.csv', index_col=0)\n",
    "south_amer = pd.read_csv('./Region/south_america.csv', index_col=0)\n"
   ]
  },
  {
   "cell_type": "code",
   "execution_count": 13,
   "metadata": {},
   "outputs": [],
   "source": [
    "# Add column of ones\n",
    "\n",
    "africa['africa'] = 1\n",
    "antarctica['antarctica'] = 1\n",
    "asia['asia'] = 1\n",
    "australasia['australasia'] = 1\n",
    "caribbean['caribbean'] = 1\n",
    "central_amer['central_amer'] = 1\n",
    "central_asia['central_asia'] = 1\n",
    "europe['europe'] = 1\n",
    "high_seas['high_seas'] = 1\n",
    "mid_east['mid_east'] = 1\n",
    "north_amer['north_amer'] = 1\n",
    "oceania['oceania'] = 1\n",
    "south_amer['south_amer'] = 1\n"
   ]
  },
  {
   "cell_type": "code",
   "execution_count": 14,
   "metadata": {},
   "outputs": [],
   "source": [
    "# Filter region only for relevant column\n",
    "\n",
    "africa = africa[['africa']]\n",
    "antarctica = antarctica[['antarctica']]\n",
    "asia = asia[['asia']]\n",
    "australasia = australasia[['australasia']]\n",
    "caribbean = caribbean[['caribbean']]\n",
    "central_amer = central_amer[['central_amer']]\n",
    "central_asia = central_asia[['central_asia']]\n",
    "europe = europe[['europe']]\n",
    "high_seas = high_seas[['high_seas']]\n",
    "mid_east = mid_east[['mid_east']]\n",
    "north_amer = north_amer[['north_amer']]\n",
    "oceania = oceania[['oceania']]\n",
    "south_amer = south_amer[['south_amer']]"
   ]
  },
  {
   "cell_type": "markdown",
   "metadata": {},
   "source": [
    "# Perform joins"
   ]
  },
  {
   "cell_type": "code",
   "execution_count": 16,
   "metadata": {},
   "outputs": [],
   "source": [
    "# Join other data\n",
    "\n",
    "full_data = full_data.join(endemic_breeding, how='left')\n",
    "full_data = full_data.join(migratory, how='left')"
   ]
  },
  {
   "cell_type": "code",
   "execution_count": 17,
   "metadata": {},
   "outputs": [],
   "source": [
    "# Join region\n",
    "\n",
    "full_data = full_data.join(africa, how='left')\n",
    "full_data = full_data.join(antarctica, how='left')\n",
    "full_data = full_data.join(asia, how='left')\n",
    "full_data = full_data.join(australasia, how='left')\n",
    "full_data = full_data.join(caribbean, how='left')\n",
    "full_data = full_data.join(central_amer, how='left')\n",
    "full_data = full_data.join(central_asia, how='left')\n",
    "full_data = full_data.join(europe, how='left')\n",
    "full_data = full_data.join(high_seas, how='left')\n",
    "full_data = full_data.join(mid_east, how='left')\n",
    "full_data = full_data.join(north_amer, how='left')\n",
    "full_data = full_data.join(oceania, how='left')\n",
    "full_data = full_data.join(south_amer, how='left')"
   ]
  },
  {
   "cell_type": "code",
   "execution_count": 18,
   "metadata": {},
   "outputs": [],
   "source": [
    "# Join threats to full data\n",
    "\n",
    "full_data = full_data.join(agriculture, how='left')\n",
    "full_data = full_data.join(biological, how='left')\n",
    "full_data = full_data.join(climate_change, how='left')\n",
    "full_data = full_data.join(energy_mining, how='left')\n",
    "full_data = full_data.join(geological_events, how='left')\n",
    "full_data = full_data.join(human_intrusions, how='left')\n",
    "full_data = full_data.join(invasive_species, how='left')\n",
    "full_data = full_data.join(natural_systems, how='left')\n",
    "full_data = full_data.join(pollution, how='left')\n",
    "full_data = full_data.join(res_comm_dev, how='left')\n",
    "full_data = full_data.join(transportation, how='left')"
   ]
  },
  {
   "cell_type": "code",
   "execution_count": 19,
   "metadata": {},
   "outputs": [],
   "source": [
    "# Join habitat to full data\n",
    "\n",
    "full_data = full_data.join(artificial_aquatic, how='left')\n",
    "full_data = full_data.join(artificial_terrestrial, how='left')\n",
    "full_data = full_data.join(caves_subterranean, how='left')\n",
    "full_data = full_data.join(desert, how='left')\n",
    "full_data = full_data.join(forest, how='left')\n",
    "full_data = full_data.join(grassland, how='left')\n",
    "full_data = full_data.join(introduced_vegetation, how='left')\n",
    "full_data = full_data.join(marine_coastal_supratidal, how='left')\n",
    "full_data = full_data.join(marine_intertidal, how='left')\n",
    "full_data = full_data.join(marine_neritic, how='left')\n",
    "full_data = full_data.join(marine_oceanic, how='left')\n",
    "full_data = full_data.join(rocky_areas, how='left')\n",
    "full_data = full_data.join(savanna, how='left')\n",
    "full_data = full_data.join(shrubland, how='left')\n",
    "full_data = full_data.join(wetlands_inland, how='left')"
   ]
  },
  {
   "cell_type": "code",
   "execution_count": 20,
   "metadata": {},
   "outputs": [
    {
     "name": "stdout",
     "output_type": "stream",
     "text": [
      "<class 'pandas.core.frame.DataFrame'>\n",
      "Int64Index: 11158 entries, 1016860 to 30205\n",
      "Data columns (total 45 columns):\n",
      " #   Column                         Non-Null Count  Dtype  \n",
      "---  ------                         --------------  -----  \n",
      " 0   Scientific name                11158 non-null  object \n",
      " 1   English name                   11158 non-null  object \n",
      " 2   Family                         11158 non-null  object \n",
      " 3   Global IUCN Red List Category  11158 non-null  object \n",
      " 4   endemic_breeding               3150 non-null   float64\n",
      " 5   migratory                      1955 non-null   float64\n",
      " 6   africa                         2527 non-null   float64\n",
      " 7   antarctica                     99 non-null     float64\n",
      " 8   asia                           3495 non-null   float64\n",
      " 9   australasia                    1464 non-null   float64\n",
      " 10  caribbean                      797 non-null    float64\n",
      " 11  central_amer                   1187 non-null   float64\n",
      " 12  central_asia                   584 non-null    float64\n",
      " 13  europe                         554 non-null    float64\n",
      " 14  high_seas                      38 non-null     float64\n",
      " 15  mid_east                       620 non-null    float64\n",
      " 16  north_amer                     1324 non-null   float64\n",
      " 17  oceania                        396 non-null    float64\n",
      " 18  south_amer                     3571 non-null   float64\n",
      " 19  agriculture_threat             2212 non-null   float64\n",
      " 20  biological_threat              2417 non-null   float64\n",
      " 21  climate_change_threat          1221 non-null   float64\n",
      " 22  energy_mining_threat           507 non-null    float64\n",
      " 23  geological_threat              48 non-null     float64\n",
      " 24  human_intrusions_threat        358 non-null    float64\n",
      " 25  invasive_threat                169 non-null    float64\n",
      " 26  natural_systems_threat         826 non-null    float64\n",
      " 27  pollution_threat               493 non-null    float64\n",
      " 28  res_comm_dev_threat            715 non-null    float64\n",
      " 29  transportation_threat          418 non-null    float64\n",
      " 30  artificial_aquatic             382 non-null    float64\n",
      " 31  artificial_terrestrial         5311 non-null   float64\n",
      " 32  caves_subterranean             47 non-null     float64\n",
      " 33  desert                         245 non-null    float64\n",
      " 34  forest                         8636 non-null   float64\n",
      " 35  grassland                      2217 non-null   float64\n",
      " 36  introduced_vegetation          9 non-null      float64\n",
      " 37  marine_coastal_supratidal      518 non-null    float64\n",
      " 38  marine_intertidal              525 non-null    float64\n",
      " 39  marine_neritic                 536 non-null    float64\n",
      " 40  marine_oceanic                 238 non-null    float64\n",
      " 41  rocky_areas                    545 non-null    float64\n",
      " 42  savanna                        2058 non-null   float64\n",
      " 43  shrubland                      4524 non-null   float64\n",
      " 44  wetlands_inland                2190 non-null   float64\n",
      "dtypes: float64(41), object(4)\n",
      "memory usage: 4.2+ MB\n"
     ]
    }
   ],
   "source": [
    "full_data.info()"
   ]
  },
  {
   "cell_type": "code",
   "execution_count": 21,
   "metadata": {},
   "outputs": [
    {
     "data": {
      "text/html": [
       "<div>\n",
       "<style scoped>\n",
       "    .dataframe tbody tr th:only-of-type {\n",
       "        vertical-align: middle;\n",
       "    }\n",
       "\n",
       "    .dataframe tbody tr th {\n",
       "        vertical-align: top;\n",
       "    }\n",
       "\n",
       "    .dataframe thead th {\n",
       "        text-align: right;\n",
       "    }\n",
       "</style>\n",
       "<table border=\"1\" class=\"dataframe\">\n",
       "  <thead>\n",
       "    <tr style=\"text-align: right;\">\n",
       "      <th></th>\n",
       "      <th>Scientific name</th>\n",
       "      <th>English name</th>\n",
       "      <th>Family</th>\n",
       "      <th>Global IUCN Red List Category</th>\n",
       "      <th>endemic_breeding</th>\n",
       "      <th>migratory</th>\n",
       "      <th>africa</th>\n",
       "      <th>antarctica</th>\n",
       "      <th>asia</th>\n",
       "      <th>australasia</th>\n",
       "      <th>...</th>\n",
       "      <th>grassland</th>\n",
       "      <th>introduced_vegetation</th>\n",
       "      <th>marine_coastal_supratidal</th>\n",
       "      <th>marine_intertidal</th>\n",
       "      <th>marine_neritic</th>\n",
       "      <th>marine_oceanic</th>\n",
       "      <th>rocky_areas</th>\n",
       "      <th>savanna</th>\n",
       "      <th>shrubland</th>\n",
       "      <th>wetlands_inland</th>\n",
       "    </tr>\n",
       "    <tr>\n",
       "      <th>SpcRecID</th>\n",
       "      <th></th>\n",
       "      <th></th>\n",
       "      <th></th>\n",
       "      <th></th>\n",
       "      <th></th>\n",
       "      <th></th>\n",
       "      <th></th>\n",
       "      <th></th>\n",
       "      <th></th>\n",
       "      <th></th>\n",
       "      <th></th>\n",
       "      <th></th>\n",
       "      <th></th>\n",
       "      <th></th>\n",
       "      <th></th>\n",
       "      <th></th>\n",
       "      <th></th>\n",
       "      <th></th>\n",
       "      <th></th>\n",
       "      <th></th>\n",
       "      <th></th>\n",
       "    </tr>\n",
       "  </thead>\n",
       "  <tbody>\n",
       "    <tr>\n",
       "      <th>1016860</th>\n",
       "      <td>Struthio camelus</td>\n",
       "      <td>Common Ostrich</td>\n",
       "      <td>Struthionidae (Ostriches)</td>\n",
       "      <td>LC</td>\n",
       "      <td>NaN</td>\n",
       "      <td>NaN</td>\n",
       "      <td>1.0</td>\n",
       "      <td>NaN</td>\n",
       "      <td>NaN</td>\n",
       "      <td>NaN</td>\n",
       "      <td>...</td>\n",
       "      <td>1.0</td>\n",
       "      <td>NaN</td>\n",
       "      <td>NaN</td>\n",
       "      <td>NaN</td>\n",
       "      <td>NaN</td>\n",
       "      <td>NaN</td>\n",
       "      <td>NaN</td>\n",
       "      <td>1.0</td>\n",
       "      <td>1.0</td>\n",
       "      <td>NaN</td>\n",
       "    </tr>\n",
       "    <tr>\n",
       "      <th>31769</th>\n",
       "      <td>Struthio molybdophanes</td>\n",
       "      <td>Somali Ostrich</td>\n",
       "      <td>Struthionidae (Ostriches)</td>\n",
       "      <td>VU</td>\n",
       "      <td>NaN</td>\n",
       "      <td>NaN</td>\n",
       "      <td>1.0</td>\n",
       "      <td>NaN</td>\n",
       "      <td>NaN</td>\n",
       "      <td>NaN</td>\n",
       "      <td>...</td>\n",
       "      <td>1.0</td>\n",
       "      <td>NaN</td>\n",
       "      <td>NaN</td>\n",
       "      <td>NaN</td>\n",
       "      <td>NaN</td>\n",
       "      <td>NaN</td>\n",
       "      <td>NaN</td>\n",
       "      <td>1.0</td>\n",
       "      <td>1.0</td>\n",
       "      <td>NaN</td>\n",
       "    </tr>\n",
       "    <tr>\n",
       "      <th>2</th>\n",
       "      <td>Rhea americana</td>\n",
       "      <td>Greater Rhea</td>\n",
       "      <td>Rheidae (Rheas)</td>\n",
       "      <td>NT</td>\n",
       "      <td>NaN</td>\n",
       "      <td>NaN</td>\n",
       "      <td>NaN</td>\n",
       "      <td>NaN</td>\n",
       "      <td>NaN</td>\n",
       "      <td>NaN</td>\n",
       "      <td>...</td>\n",
       "      <td>1.0</td>\n",
       "      <td>NaN</td>\n",
       "      <td>NaN</td>\n",
       "      <td>NaN</td>\n",
       "      <td>NaN</td>\n",
       "      <td>NaN</td>\n",
       "      <td>NaN</td>\n",
       "      <td>1.0</td>\n",
       "      <td>1.0</td>\n",
       "      <td>NaN</td>\n",
       "    </tr>\n",
       "    <tr>\n",
       "      <th>1016842</th>\n",
       "      <td>Rhea pennata</td>\n",
       "      <td>Lesser Rhea</td>\n",
       "      <td>Rheidae (Rheas)</td>\n",
       "      <td>LC</td>\n",
       "      <td>NaN</td>\n",
       "      <td>NaN</td>\n",
       "      <td>NaN</td>\n",
       "      <td>NaN</td>\n",
       "      <td>NaN</td>\n",
       "      <td>NaN</td>\n",
       "      <td>...</td>\n",
       "      <td>1.0</td>\n",
       "      <td>NaN</td>\n",
       "      <td>NaN</td>\n",
       "      <td>NaN</td>\n",
       "      <td>NaN</td>\n",
       "      <td>NaN</td>\n",
       "      <td>NaN</td>\n",
       "      <td>NaN</td>\n",
       "      <td>1.0</td>\n",
       "      <td>1.0</td>\n",
       "    </tr>\n",
       "    <tr>\n",
       "      <th>1016844</th>\n",
       "      <td>Rhea tarapacensis</td>\n",
       "      <td>Puna Rhea</td>\n",
       "      <td>Rheidae (Rheas)</td>\n",
       "      <td>NT</td>\n",
       "      <td>NaN</td>\n",
       "      <td>NaN</td>\n",
       "      <td>NaN</td>\n",
       "      <td>NaN</td>\n",
       "      <td>NaN</td>\n",
       "      <td>NaN</td>\n",
       "      <td>...</td>\n",
       "      <td>1.0</td>\n",
       "      <td>NaN</td>\n",
       "      <td>NaN</td>\n",
       "      <td>NaN</td>\n",
       "      <td>NaN</td>\n",
       "      <td>NaN</td>\n",
       "      <td>NaN</td>\n",
       "      <td>NaN</td>\n",
       "      <td>1.0</td>\n",
       "      <td>1.0</td>\n",
       "    </tr>\n",
       "  </tbody>\n",
       "</table>\n",
       "<p>5 rows × 45 columns</p>\n",
       "</div>"
      ],
      "text/plain": [
       "                 Scientific name    English name                     Family  \\\n",
       "SpcRecID                                                                      \n",
       "1016860         Struthio camelus  Common Ostrich  Struthionidae (Ostriches)   \n",
       "31769     Struthio molybdophanes  Somali Ostrich  Struthionidae (Ostriches)   \n",
       "2                 Rhea americana    Greater Rhea            Rheidae (Rheas)   \n",
       "1016842             Rhea pennata     Lesser Rhea            Rheidae (Rheas)   \n",
       "1016844        Rhea tarapacensis       Puna Rhea            Rheidae (Rheas)   \n",
       "\n",
       "         Global IUCN Red List Category  endemic_breeding  migratory  africa  \\\n",
       "SpcRecID                                                                      \n",
       "1016860                             LC               NaN        NaN     1.0   \n",
       "31769                               VU               NaN        NaN     1.0   \n",
       "2                                   NT               NaN        NaN     NaN   \n",
       "1016842                             LC               NaN        NaN     NaN   \n",
       "1016844                             NT               NaN        NaN     NaN   \n",
       "\n",
       "          antarctica  asia  australasia  ...  grassland  \\\n",
       "SpcRecID                                 ...              \n",
       "1016860          NaN   NaN          NaN  ...        1.0   \n",
       "31769            NaN   NaN          NaN  ...        1.0   \n",
       "2                NaN   NaN          NaN  ...        1.0   \n",
       "1016842          NaN   NaN          NaN  ...        1.0   \n",
       "1016844          NaN   NaN          NaN  ...        1.0   \n",
       "\n",
       "          introduced_vegetation  marine_coastal_supratidal  marine_intertidal  \\\n",
       "SpcRecID                                                                        \n",
       "1016860                     NaN                        NaN                NaN   \n",
       "31769                       NaN                        NaN                NaN   \n",
       "2                           NaN                        NaN                NaN   \n",
       "1016842                     NaN                        NaN                NaN   \n",
       "1016844                     NaN                        NaN                NaN   \n",
       "\n",
       "          marine_neritic  marine_oceanic  rocky_areas  savanna  shrubland  \\\n",
       "SpcRecID                                                                    \n",
       "1016860              NaN             NaN          NaN      1.0        1.0   \n",
       "31769                NaN             NaN          NaN      1.0        1.0   \n",
       "2                    NaN             NaN          NaN      1.0        1.0   \n",
       "1016842              NaN             NaN          NaN      NaN        1.0   \n",
       "1016844              NaN             NaN          NaN      NaN        1.0   \n",
       "\n",
       "          wetlands_inland  \n",
       "SpcRecID                   \n",
       "1016860               NaN  \n",
       "31769                 NaN  \n",
       "2                     NaN  \n",
       "1016842               1.0  \n",
       "1016844               1.0  \n",
       "\n",
       "[5 rows x 45 columns]"
      ]
     },
     "execution_count": 21,
     "metadata": {},
     "output_type": "execute_result"
    }
   ],
   "source": [
    "full_data.head()"
   ]
  },
  {
   "cell_type": "code",
   "execution_count": 22,
   "metadata": {},
   "outputs": [],
   "source": [
    "# Replace all null values with 0\n",
    "\n",
    "full_data.fillna(0, inplace=True)"
   ]
  },
  {
   "cell_type": "code",
   "execution_count": 23,
   "metadata": {},
   "outputs": [],
   "source": [
    "# Export to CSV\n",
    "\n",
    "full_data.to_csv('threats_habitats.csv')"
   ]
  }
 ],
 "metadata": {
  "kernelspec": {
   "display_name": "Python (learn-env)",
   "language": "python",
   "name": "learn-env"
  },
  "language_info": {
   "codemirror_mode": {
    "name": "ipython",
    "version": 3
   },
   "file_extension": ".py",
   "mimetype": "text/x-python",
   "name": "python",
   "nbconvert_exporter": "python",
   "pygments_lexer": "ipython3",
   "version": "3.8.5"
  }
 },
 "nbformat": 4,
 "nbformat_minor": 4
}
